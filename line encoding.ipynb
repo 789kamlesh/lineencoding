{
 "cells": [
  {
   "cell_type": "markdown",
   "metadata": {},
   "source": [
    "#              Line encoding using jupyter notebook on python"
   ]
  },
  {
   "cell_type": "code",
   "execution_count": 1,
   "metadata": {},
   "outputs": [],
   "source": [
    "import matplotlib.pyplot as plt\n",
    "import numpy as np"
   ]
  },
  {
   "cell_type": "markdown",
   "metadata": {},
   "source": [
    "# define unipolar"
   ]
  },
  {
   "cell_type": "code",
   "execution_count": 2,
   "metadata": {},
   "outputs": [],
   "source": [
    "def unipolar(inp):\n",
    "    inp1=list(inp)\n",
    "    inp1.insert(0,0)\n",
    "    return inp1"
   ]
  },
  {
   "cell_type": "markdown",
   "metadata": {},
   "source": [
    "# define polar nrz L"
   ]
  },
  {
   "cell_type": "code",
   "execution_count": 3,
   "metadata": {},
   "outputs": [],
   "source": [
    "def polar_nrz_l(inp):\n",
    "    inp1=list(inp)\n",
    "    inp1.insert(0,0)\n",
    "    inp1=[-1 if i==0 else 1 for i in inp1]\n",
    "    return inp1\n"
   ]
  },
  {
   "cell_type": "markdown",
   "metadata": {},
   "source": [
    "# Define polar NRZ I"
   ]
  },
  {
   "cell_type": "code",
   "execution_count": 4,
   "metadata": {},
   "outputs": [],
   "source": [
    "def polar_nrz_i(inp):\n",
    "    inp2=list(inp)\n",
    "    lock=False\n",
    "    for i in range(len(inp2)):\n",
    "        if inp2[i]==1 and not lock:\n",
    "            lock=True\n",
    "            continue\n",
    "        if lock and inp2[i]==1:\n",
    "            if inp2[i-1]==0:\n",
    "                inp2[i]=1\n",
    "                continue\n",
    "            else :\n",
    "                inp2[i]=0\n",
    "                continue\n",
    "        if lock:\n",
    "            inp2[i]=inp2[i-1]\n",
    "    inp2=[-1 if i==0 else 1 for i in inp2]        \n",
    "    return inp2\n",
    "    \n",
    "\n",
    "def polar_rz(inp):\n",
    "    inp1=list(inp)\n",
    "    inp1=[-1 if i==0 else 1 for i in inp1]\n",
    "    li=[]\n",
    "    for i in range(len(inp1)):\n",
    "        li.append(inp1[i])\n",
    "        li.append(0)\n",
    "    return li"
   ]
  },
  {
   "cell_type": "markdown",
   "metadata": {},
   "source": [
    "# Define Polar RZ"
   ]
  },
  {
   "cell_type": "code",
   "execution_count": 5,
   "metadata": {},
   "outputs": [],
   "source": [
    "def polar_rz(inp):\n",
    "    inp1=list(inp)\n",
    "    inp1=[-1 if i==0 else 1 for i in inp1]\n",
    "    li=[]\n",
    "    for i in range(len(inp1)):\n",
    "        li.append(inp1[i])\n",
    "        li.append(0)\n",
    "    return li"
   ]
  },
  {
   "cell_type": "markdown",
   "metadata": {},
   "source": [
    "# Define Biphase Manchester"
   ]
  },
  {
   "cell_type": "code",
   "execution_count": 6,
   "metadata": {},
   "outputs": [],
   "source": [
    "def Biphase_manchester(inp):\n",
    "    inp1=list(inp)\n",
    "    li,init=[],False\n",
    "    for i in range(len(inp1)):\n",
    "        if inp1[i]==0:\n",
    "            li.append(-1)\n",
    "            if not init:\n",
    "                li.append(-1)\n",
    "                init=True\n",
    "            li.append(1)\n",
    "        elif inp1[i]==1 :\n",
    "            li.append(1)\n",
    "            li.append(-1)\n",
    "    return li   "
   ]
  },
  {
   "cell_type": "markdown",
   "metadata": {},
   "source": [
    "# Define Differential Manchester"
   ]
  },
  {
   "cell_type": "code",
   "execution_count": 7,
   "metadata": {},
   "outputs": [],
   "source": [
    "def Differential_manchester(inp):\n",
    "    inp1=list(inp)\n",
    "    li,lock,pre=[],False,''\n",
    "    for i in range(len(inp1)):\n",
    "        if inp1[i]==0 and not lock:\n",
    "            li.append(-1)\n",
    "            li.append(-1)\n",
    "            li.append(1)\n",
    "            lock=True\n",
    "            pre='S'\n",
    "        elif inp1[i]==1 and not lock :\n",
    "            li.append(1)\n",
    "            li.append(1)\n",
    "            li.append(-1)\n",
    "            lock=True\n",
    "            pre='Z'\n",
    "        else:\n",
    "            if inp1[i]==0:\n",
    "                if pre=='S':\n",
    "                    li.append(-1);li.append(1)\n",
    "                else:\n",
    "                    li.append(1);li.append(-1)\n",
    "            else:\n",
    "                if pre=='Z':\n",
    "                    pre='S'\n",
    "                    li.append(-1);li.append(1)\n",
    "                else:\n",
    "                    pre='Z'\n",
    "                    li.append(1);li.append(-1)\n",
    "                         \n",
    "    return li  "
   ]
  },
  {
   "cell_type": "markdown",
   "metadata": {},
   "source": [
    "# Define AMI"
   ]
  },
  {
   "cell_type": "code",
   "execution_count": 8,
   "metadata": {},
   "outputs": [],
   "source": [
    "def AMI(inp):\n",
    "    inp1=list(inp)\n",
    "    inp1.insert(0,0)\n",
    "    lock=False\n",
    "    for i in range(len(inp1)):\n",
    "        if inp1[i]==1 and not lock:\n",
    "            lock=True\n",
    "            continue\n",
    "        elif lock and inp1[i]==1:\n",
    "            inp1[i]=-1\n",
    "            lock=False\n",
    "    return inp1  "
   ]
  },
  {
   "cell_type": "markdown",
   "metadata": {},
   "source": [
    "# Here I am using example of each type"
   ]
  },
  {
   "cell_type": "code",
   "execution_count": 9,
   "metadata": {},
   "outputs": [],
   "source": [
    "li=[1,0,1,0,0]"
   ]
  },
  {
   "cell_type": "markdown",
   "metadata": {},
   "source": [
    "## example of unipolar RZ"
   ]
  },
  {
   "cell_type": "code",
   "execution_count": 10,
   "metadata": {},
   "outputs": [
    {
     "data": {
      "text/plain": [
       "[<matplotlib.lines.Line2D at 0x1a587d83988>]"
      ]
     },
     "execution_count": 10,
     "metadata": {},
     "output_type": "execute_result"
    },
    {
     "data": {
      "image/png": "[encoded data removed]",
      "text/plain": [
       "<Figure size 432x288 with 1 Axes>"
      ]
     },
     "metadata": {
      "needs_background": "light"
     },
     "output_type": "display_data"
    }
   ],
   "source": [
    "plt.ylabel(\"Unipolar-NRZ\")\n",
    "plt.plot(unipolar(li),color='red',drawstyle='steps-pre',marker='>')"
   ]
  },
  {
   "cell_type": "markdown",
   "metadata": {},
   "source": [
    "## example of polar NRZ L"
   ]
  },
  {
   "cell_type": "code",
   "execution_count": 11,
   "metadata": {},
   "outputs": [
    {
     "data": {
      "text/plain": [
       "[<matplotlib.lines.Line2D at 0x1a587e45508>]"
      ]
     },
     "execution_count": 11,
     "metadata": {},
     "output_type": "execute_result"
    },
    {
     "data": {
      "image/png": "[encoded data removed]",
      "text/plain": [
       "<Figure size 432x288 with 1 Axes>"
      ]
     },
     "metadata": {
      "needs_background": "light"
     },
     "output_type": "display_data"
    }
   ],
   "source": [
    "plt.ylabel(\"P-NRZ-L\")\n",
    "plt.plot(polar_nrz_l(li),color='blue',drawstyle='steps-pre',marker='>')"
   ]
  },
  {
   "cell_type": "markdown",
   "metadata": {},
   "source": [
    "## example of polar NRZ I "
   ]
  },
  {
   "cell_type": "code",
   "execution_count": 12,
   "metadata": {},
   "outputs": [
    {
     "data": {
      "text/plain": [
       "[<matplotlib.lines.Line2D at 0x1a587ec0288>]"
      ]
     },
     "execution_count": 12,
     "metadata": {},
     "output_type": "execute_result"
    },
    {
     "data": {
      "image/png": "[encoded data removed]",
      "text/plain": [
       "<Figure size 432x288 with 1 Axes>"
      ]
     },
     "metadata": {
      "needs_background": "light"
     },
     "output_type": "display_data"
    }
   ],
   "source": [
    "plt.ylabel(\"P-NRZ-I\")\n",
    "plt.plot(polar_nrz_i(li),color='green',drawstyle='steps-pre',marker='>')"
   ]
  },
  {
   "cell_type": "markdown",
   "metadata": {},
   "source": [
    "## example of polar RZ "
   ]
  },
  {
   "cell_type": "code",
   "execution_count": 13,
   "metadata": {},
   "outputs": [
    {
     "data": {
      "text/plain": [
       "[<matplotlib.lines.Line2D at 0x1a587f33488>]"
      ]
     },
     "execution_count": 13,
     "metadata": {},
     "output_type": "execute_result"
    },
    {
     "data": {
      "image/png": "[encoded data removed]",
      "text/plain": [
       "<Figure size 432x288 with 1 Axes>"
      ]
     },
     "metadata": {
      "needs_background": "light"
     },
     "output_type": "display_data"
    }
   ],
   "source": [
    "plt.ylabel(\"Polar-RZ\")\n",
    "plt.plot(polar_rz(li),color='red',drawstyle='steps-pre',marker='>')"
   ]
  },
  {
   "cell_type": "markdown",
   "metadata": {},
   "source": [
    "## example of biphase manchester "
   ]
  },
  {
   "cell_type": "code",
   "execution_count": 14,
   "metadata": {},
   "outputs": [
    {
     "data": {
      "text/plain": [
       "[<matplotlib.lines.Line2D at 0x1a587f9bf08>]"
      ]
     },
     "execution_count": 14,
     "metadata": {},
     "output_type": "execute_result"
    },
    {
     "data": {
      "image/png": "[encoded data removed]",
      "text/plain": [
       "<Figure size 432x288 with 1 Axes>"
      ]
     },
     "metadata": {
      "needs_background": "light"
     },
     "output_type": "display_data"
    }
   ],
   "source": [
    "plt.ylabel(\"B_Man\")\n",
    "plt.plot(Biphase_manchester(li),color='violet',drawstyle='steps-pre',marker='>')"
   ]
  },
  {
   "cell_type": "markdown",
   "metadata": {},
   "source": [
    "## example of machester "
   ]
  },
  {
   "cell_type": "code",
   "execution_count": 15,
   "metadata": {},
   "outputs": [
    {
     "data": {
      "text/plain": [
       "[<matplotlib.lines.Line2D at 0x1a588012188>]"
      ]
     },
     "execution_count": 15,
     "metadata": {},
     "output_type": "execute_result"
    },
    {
     "data": {
      "image/png": "[encoded data removed]",
      "text/plain": [
       "<Figure size 432x288 with 1 Axes>"
      ]
     },
     "metadata": {
      "needs_background": "light"
     },
     "output_type": "display_data"
    }
   ],
   "source": [
    "plt.ylabel(\"Dif_Man\")\n",
    "plt.plot(Differential_manchester(li),color='red',drawstyle='steps-pre',marker='>')\n"
   ]
  },
  {
   "cell_type": "markdown",
   "metadata": {},
   "source": [
    "## example of AMI"
   ]
  },
  {
   "cell_type": "code",
   "execution_count": 16,
   "metadata": {},
   "outputs": [
    {
     "data": {
      "text/plain": [
       "[<matplotlib.lines.Line2D at 0x1a58807ab08>]"
      ]
     },
     "execution_count": 16,
     "metadata": {},
     "output_type": "execute_result"
    },
    {
     "data": {
      "image/png": "[encoded data removed]",
      "text/plain": [
       "<Figure size 432x288 with 1 Axes>"
      ]
     },
     "metadata": {
      "needs_background": "light"
     },
     "output_type": "display_data"
    }
   ],
   "source": [
    "plt.ylabel(\"A-M-I\")\n",
    "plt.plot(AMI(li),color='blue',drawstyle='steps-pre',marker='>')\n"
   ]
  },
  {
   "cell_type": "markdown",
   "metadata": {},
   "source": [
    "# Below given intruction\n",
    "        -->given keyword about which type of encoding want\n",
    "        -->plot of graph of each encoding which we want\n",
    "        -->number of test cases which you want\n",
    "        -->size is variable"
   ]
  },
  {
   "cell_type": "code",
   "execution_count": 19,
   "metadata": {},
   "outputs": [
    {
     "name": "stdout",
     "output_type": "stream",
     "text": [
      "HERE IS INSTRUCTION ABOUT ALL ENCODING KEYWORD TO USE\n",
      "\t *unipolar nrz:- unipolar \n",
      "\n",
      "\t *polar NRZ L:-pnrzl  \n",
      "\n",
      "\t *POLAR NRZ I:-pnrzi \n",
      "\n",
      "\t *POLAR RZ:-prz \n",
      "\n",
      "\t *BIPHASE MANCHESTER:-bm \n",
      "\n",
      "\t *DIFFERNTIAL MANCHESTER:-dm \n",
      "\n",
      "\t *AMI:-ami \n",
      "\n",
      "Enter the number of test:-7\n",
      "Enter the size of Encoded Data : \n",
      "5\n",
      "Enter the binary bits sequnce of length  5  bits : \n",
      "\n",
      "1\n",
      "0\n",
      "1\n",
      "1\n",
      "1\n",
      "Enter the type of plotting use\n",
      "\n",
      "unipolar\n"
     ]
    },
    {
     "data": {
      "image/png": "[encoded data removed]",
      "text/plain": [
       "<Figure size 432x288 with 1 Axes>"
      ]
     },
     "metadata": {
      "needs_background": "light"
     },
     "output_type": "display_data"
    },
    {
     "name": "stdout",
     "output_type": "stream",
     "text": [
      "Enter the size of Encoded Data : \n",
      "5\n",
      "Enter the binary bits sequnce of length  5  bits : \n",
      "\n",
      "1\n",
      "0\n",
      "1\n",
      "1\n",
      "1\n",
      "Enter the type of plotting use\n",
      "\n",
      "pnrzl\n"
     ]
    },
    {
     "data": {
      "image/png": "[encoded data removed]",
      "text/plain": [
       "<Figure size 432x288 with 1 Axes>"
      ]
     },
     "metadata": {
      "needs_background": "light"
     },
     "output_type": "display_data"
    },
    {
     "name": "stdout",
     "output_type": "stream",
     "text": [
      "Enter the size of Encoded Data : \n",
      "5\n",
      "Enter the binary bits sequnce of length  5  bits : \n",
      "\n",
      "1\n",
      "0\n",
      "1\n",
      "1\n",
      "1\n",
      "Enter the type of plotting use\n",
      "\n",
      "pnrzi\n"
     ]
    },
    {
     "data": {
      "image/png": "[encoded data removed]",
      "text/plain": [
       "<Figure size 432x288 with 1 Axes>"
      ]
     },
     "metadata": {
      "needs_background": "light"
     },
     "output_type": "display_data"
    },
    {
     "name": "stdout",
     "output_type": "stream",
     "text": [
      "Enter the size of Encoded Data : \n",
      "5\n",
      "Enter the binary bits sequnce of length  5  bits : \n",
      "\n",
      "1\n",
      "0\n",
      "1\n",
      "1\n",
      "1\n",
      "Enter the type of plotting use\n",
      "\n",
      "prz\n"
     ]
    },
    {
     "data": {
      "image/png": "[encoded data removed]",
      "text/plain": [
       "<Figure size 432x288 with 1 Axes>"
      ]
     },
     "metadata": {
      "needs_background": "light"
     },
     "output_type": "display_data"
    },
    {
     "name": "stdout",
     "output_type": "stream",
     "text": [
      "Enter the size of Encoded Data : \n",
      "5\n",
      "Enter the binary bits sequnce of length  5  bits : \n",
      "\n",
      "1\n",
      "0\n",
      "1\n",
      "1\n",
      "1\n",
      "Enter the type of plotting use\n",
      "\n",
      "bm\n"
     ]
    },
    {
     "data": {
      "image/png": "[encoded data removed]",
      "text/plain": [
       "<Figure size 432x288 with 1 Axes>"
      ]
     },
     "metadata": {
      "needs_background": "light"
     },
     "output_type": "display_data"
    },
    {
     "name": "stdout",
     "output_type": "stream",
     "text": [
      "Enter the size of Encoded Data : \n",
      "5\n",
      "Enter the binary bits sequnce of length  5  bits : \n",
      "\n",
      "1\n",
      "0\n",
      "1\n",
      "1\n",
      "1\n",
      "Enter the type of plotting use\n",
      "\n",
      "dm\n"
     ]
    },
    {
     "data": {
      "image/png": "[encoded data removed]",
      "text/plain": [
       "<Figure size 432x288 with 1 Axes>"
      ]
     },
     "metadata": {
      "needs_background": "light"
     },
     "output_type": "display_data"
    },
    {
     "name": "stdout",
     "output_type": "stream",
     "text": [
      "Enter the size of Encoded Data : \n",
      "5\n",
      "Enter the binary bits sequnce of length  5  bits : \n",
      "\n",
      "1\n",
      "0\n",
      "1\n",
      "1\n",
      "1\n",
      "Enter the type of plotting use\n",
      "\n",
      "ami\n"
     ]
    },
    {
     "data": {
      "image/png": "[encoded data removed]",
      "text/plain": [
       "<Figure size 432x288 with 1 Axes>"
      ]
     },
     "metadata": {
      "needs_background": "light"
     },
     "output_type": "display_data"
    }
   ],
   "source": [
    "if __name__=='__main__':\n",
    "    print(\"HERE IS INSTRUCTION ABOUT ALL ENCODING KEYWORD TO USE\")\n",
    "    print(\"\\t *unipolar nrz:- unipolar \\n\")\n",
    "    print(\"\\t *polar NRZ L:-pnrzl  \\n\")\n",
    "    print(\"\\t *POLAR NRZ I:-pnrzi \\n\")\n",
    "    print(\"\\t *POLAR RZ:-prz \\n\")\n",
    "    print(\"\\t *BIPHASE MANCHESTER:-bm \\n\")\n",
    "    print(\"\\t *DIFFERNTIAL MANCHESTER:-dm \\n\")\n",
    "    print(\"\\t *AMI:-ami \\n\")\n",
    "    T=int(input(\"Enter the number of test:-\"))\n",
    "    z=1\n",
    "    s=T\n",
    "    while T>0:\n",
    "        plt.subplot(7,1,z)\n",
    "        z=z+1\n",
    "        print(\"Enter the size of Encoded Data : \")\n",
    "        size=int(input())\n",
    "        li=[]\n",
    "        print('Enter the binary bits sequnce of length ',size,' bits : \\n')\n",
    "        for i in range(size):\n",
    "            li.append(int(input()))\n",
    "        print (\"Enter the type of plotting use\\n\")\n",
    "        types=input()\n",
    "        if types == \"unipolar\":\n",
    "            plt.ylabel(\"Unipolar-NRZ\")\n",
    "            plt.plot(unipolar(li),color='red',drawstyle='steps-pre',marker='>')\n",
    "            plt.show()\n",
    "        elif types ==\"pnrzl\":\n",
    "            plt.ylabel(\"P-NRZ-L\")\n",
    "            plt.plot(polar_nrz_l(li),color='blue',drawstyle='steps-pre',marker='>')\n",
    "            plt.show()\n",
    "        elif types == \"pnrzi\":\n",
    "            plt.ylabel(\"P-NRZ-I\")\n",
    "            plt.plot(polar_nrz_i(li),color='green',drawstyle='steps-pre',marker='>')\n",
    "            plt.show()\n",
    "        elif types == \"prz\":\n",
    "            plt.ylabel(\"Polar-RZ\")\n",
    "            plt.plot(polar_rz(li),color='red',drawstyle='steps-pre',marker='>')\n",
    "            plt.show()\n",
    "        elif types == \"bm\":\n",
    "            plt.ylabel(\"B_Man\")\n",
    "            plt.plot(Biphase_manchester(li),color='violet',drawstyle='steps-pre',marker='>')\n",
    "            plt.show()\n",
    "        elif types == \"dm\":\n",
    "            plt.ylabel(\"Dif_Man\")\n",
    "            plt.plot(Differential_manchester(li),color='red',drawstyle='steps-pre',marker='>')\n",
    "            plt.show()\n",
    "        elif types == \"ami\":\n",
    "            plt.ylabel(\"A-M-I\")\n",
    "            plt.plot(AMI(li),color='blue',drawstyle='steps-pre',marker='>')\n",
    "            plt.show()\n",
    "        else : \n",
    "           print(\"invalid input\")\n",
    "        \n",
    "        T=T-1\n",
    "\n",
    "            \n",
    "            \n",
    "\n",
    "    \n",
    "        \n",
    "        \n",
    "        "
   ]
  },
  {
   "cell_type": "markdown",
   "metadata": {},
   "source": []
  },
  {
   "cell_type": "code",
   "execution_count": null,
   "metadata": {},
   "outputs": [],
   "source": []
  },
  {
   "cell_type": "code",
   "execution_count": null,
   "metadata": {},
   "outputs": [],
   "source": []
  },
  {
   "cell_type": "code",
   "execution_count": null,
   "metadata": {},
   "outputs": [],
   "source": []
  },
  {
   "cell_type": "code",
   "execution_count": null,
   "metadata": {},
   "outputs": [],
   "source": []
  }
 ],
 "metadata": {
  "kernelspec": {
   "display_name": "Python 3",
   "language": "python",
   "name": "python3"
  },
  "language_info": {
   "codemirror_mode": {
    "name": "ipython",
    "version": 3
   },
   "file_extension": ".py",
   "mimetype": "text/x-python",
   "name": "python",
   "nbconvert_exporter": "python",
   "pygments_lexer": "ipython3",
   "version": "3.7.6"
  }
 },
 "nbformat": 4,
 "nbformat_minor": 4
}
